{
 "cells": [
  {
   "cell_type": "markdown",
   "metadata": {},
   "source": [
    "## Modelagem Preditiva Avançada\n",
    "### Regressão Logística\n",
    "\n",
    "Feature\t| Descrição\t| Tipo\n",
    "-----|----|----\n",
    "ADMIT\t| Adimissão para mestrado\t| Flag\n",
    "GPA\t| Médias das notas do aluno\t| Real\n",
    "GRE\t| Nota no exame de registro de graduação| Real\n",
    "RANK |\tPosição final no rank | Categorico\n",
    "\n",
    "\n",
    "1° Passo\n",
    "\n",
    "Primeiramente vamos importar os seguinter pacotes:\n",
    "\n",
    "+ **caret**: Biblioteca para funcionalidade de ML\n",
    "\n",
    "+ **mlbench**: Biblioteca para Validação de Modelos\n",
    "\n",
    "+ **ggplot2**: Biblioteca para visualização de dados\n",
    "\n",
    "+ **pROC**: Curva ROC\n",
    "\n",
    "+ **ROCR**: Curva ROC\n",
    "\n",
    "## Importando Bibliotecas e Dados"
   ]
  },
  {
   "cell_type": "code",
   "execution_count": 1,
   "metadata": {
    "ExecuteTime": {
     "end_time": "2020-10-23T18:20:17.967348Z",
     "start_time": "2020-10-23T18:20:11.214Z"
    }
   },
   "outputs": [
    {
     "name": "stderr",
     "output_type": "stream",
     "text": [
      "Loading required package: lattice\n",
      "Loading required package: ggplot2\n",
      "Registered S3 methods overwritten by 'ggplot2':\n",
      "  method         from \n",
      "  [.quosures     rlang\n",
      "  c.quosures     rlang\n",
      "  print.quosures rlang\n",
      "Type 'citation(\"pROC\")' for a citation.\n",
      "\n",
      "Attaching package: 'pROC'\n",
      "\n",
      "The following objects are masked from 'package:stats':\n",
      "\n",
      "    cov, smooth, var\n",
      "\n",
      "Loading required package: gplots\n",
      "\n",
      "Attaching package: 'gplots'\n",
      "\n",
      "The following object is masked from 'package:stats':\n",
      "\n",
      "    lowess\n",
      "\n"
     ]
    }
   ],
   "source": [
    "options(warn=-1)\n",
    "library(caret)\n",
    "library(datasets)\n",
    "library(mlbench)\n",
    "library(ggplot2)\n",
    "\n",
    "library(pROC)\n",
    "library(ROCR)"
   ]
  },
  {
   "cell_type": "markdown",
   "metadata": {},
   "source": [
    "2° Passo\n",
    "\n",
    "Agora vamos carregar o dataset, com cabeçalho (header=TRUE) e o separador de colunas sendo ','.\n",
    "\n",
    "## Análise de Dados"
   ]
  },
  {
   "cell_type": "code",
   "execution_count": 2,
   "metadata": {
    "ExecuteTime": {
     "end_time": "2020-10-23T18:20:23.553076Z",
     "start_time": "2020-10-23T18:20:22.970Z"
    }
   },
   "outputs": [],
   "source": [
    "df <- read.csv(file=\"C:/Users/01549098/Documents/Analise_Preditiva_Avancada/Logisitc Regression/SAT.csv\", header=TRUE, sep=\",\")"
   ]
  },
  {
   "cell_type": "markdown",
   "metadata": {},
   "source": [
    "3° Passo\n",
    "\n",
    "Agora vamos fazer uma rápida análise dos dados buscando identificar algumas relações visualmente e também verificar a qualidade dos dados."
   ]
  },
  {
   "cell_type": "code",
   "execution_count": 3,
   "metadata": {
    "ExecuteTime": {
     "end_time": "2020-10-23T18:20:27.137242Z",
     "start_time": "2020-10-23T18:20:27.049Z"
    }
   },
   "outputs": [
    {
     "data": {
      "text/html": [
       "<table>\n",
       "<thead><tr><th scope=col>ADMIT</th><th scope=col>GRE</th><th scope=col>GPA</th><th scope=col>RANK</th></tr></thead>\n",
       "<tbody>\n",
       "\t<tr><td>No  </td><td>380 </td><td>3.61</td><td>3   </td></tr>\n",
       "\t<tr><td>Yes </td><td>660 </td><td>3.67</td><td>3   </td></tr>\n",
       "\t<tr><td>Yes </td><td>800 </td><td>4.00</td><td>1   </td></tr>\n",
       "\t<tr><td>Yes </td><td>640 </td><td>3.19</td><td>4   </td></tr>\n",
       "\t<tr><td>No  </td><td>520 </td><td>2.93</td><td>4   </td></tr>\n",
       "\t<tr><td>Yes </td><td>760 </td><td>3.00</td><td>2   </td></tr>\n",
       "</tbody>\n",
       "</table>\n"
      ],
      "text/latex": [
       "\\begin{tabular}{r|llll}\n",
       " ADMIT & GRE & GPA & RANK\\\\\n",
       "\\hline\n",
       "\t No   & 380  & 3.61 & 3   \\\\\n",
       "\t Yes  & 660  & 3.67 & 3   \\\\\n",
       "\t Yes  & 800  & 4.00 & 1   \\\\\n",
       "\t Yes  & 640  & 3.19 & 4   \\\\\n",
       "\t No   & 520  & 2.93 & 4   \\\\\n",
       "\t Yes  & 760  & 3.00 & 2   \\\\\n",
       "\\end{tabular}\n"
      ],
      "text/markdown": [
       "\n",
       "| ADMIT | GRE | GPA | RANK |\n",
       "|---|---|---|---|\n",
       "| No   | 380  | 3.61 | 3    |\n",
       "| Yes  | 660  | 3.67 | 3    |\n",
       "| Yes  | 800  | 4.00 | 1    |\n",
       "| Yes  | 640  | 3.19 | 4    |\n",
       "| No   | 520  | 2.93 | 4    |\n",
       "| Yes  | 760  | 3.00 | 2    |\n",
       "\n"
      ],
      "text/plain": [
       "  ADMIT GRE GPA  RANK\n",
       "1 No    380 3.61 3   \n",
       "2 Yes   660 3.67 3   \n",
       "3 Yes   800 4.00 1   \n",
       "4 Yes   640 3.19 4   \n",
       "5 No    520 2.93 4   \n",
       "6 Yes   760 3.00 2   "
      ]
     },
     "metadata": {},
     "output_type": "display_data"
    }
   ],
   "source": [
    "head(df)"
   ]
  },
  {
   "cell_type": "code",
   "execution_count": 4,
   "metadata": {
    "ExecuteTime": {
     "end_time": "2020-10-23T18:20:27.667844Z",
     "start_time": "2020-10-23T18:20:27.588Z"
    }
   },
   "outputs": [
    {
     "data": {
      "text/plain": [
       " ADMIT          GRE             GPA             RANK      \n",
       " No :273   Min.   :220.0   Min.   :2.260   Min.   :1.000  \n",
       " Yes:127   1st Qu.:520.0   1st Qu.:3.130   1st Qu.:2.000  \n",
       "           Median :580.0   Median :3.395   Median :2.000  \n",
       "           Mean   :587.7   Mean   :3.390   Mean   :2.485  \n",
       "           3rd Qu.:660.0   3rd Qu.:3.670   3rd Qu.:3.000  \n",
       "           Max.   :800.0   Max.   :4.000   Max.   :4.000  "
      ]
     },
     "metadata": {},
     "output_type": "display_data"
    }
   ],
   "source": [
    "summary(df)"
   ]
  },
  {
   "cell_type": "markdown",
   "metadata": {},
   "source": [
    "4° Passo\n",
    "\n",
    "Agora vamos particionar o dataset em treino/teste. Para isso definimos \"p=0.7\", isto é 70% da base será escolhida aleatóriamente para treino e 30% para teste do modelo.\n",
    "\n",
    "Observe também que o \"set.seed(x)\" garante que ao replicarmos essa partição em outro computador por exemplo, os mesmos dados irão respectivamente prar treino e teste"
   ]
  },
  {
   "cell_type": "code",
   "execution_count": 5,
   "metadata": {
    "ExecuteTime": {
     "end_time": "2020-10-23T18:20:31.359839Z",
     "start_time": "2020-10-23T18:20:31.269Z"
    }
   },
   "outputs": [],
   "source": [
    "set.seed(280)\n",
    "trainIndex <- createDataPartition(df$ADMIT, p = .7, list = FALSE)\n",
    "\n",
    "df$ADMIT <- as.factor(df$ADMIT)"
   ]
  },
  {
   "cell_type": "code",
   "execution_count": 6,
   "metadata": {
    "ExecuteTime": {
     "end_time": "2020-10-23T18:20:33.408816Z",
     "start_time": "2020-10-23T18:20:33.350Z"
    }
   },
   "outputs": [],
   "source": [
    "dfTrain <- df[ trainIndex,]\n",
    "dfTest  <- df[-trainIndex,]"
   ]
  },
  {
   "cell_type": "markdown",
   "metadata": {},
   "source": [
    "5° Passo\n",
    "\n",
    "Observe que em \"method\" definimos \"glm\" de generalized linear model e que definimos variável target sendo APPROVED e colocamos todas as outras variáveis como preditoras. Observe também que agora incluímos o parâmetro de 10 fold cross validation na hora do treino do modelo"
   ]
  },
  {
   "cell_type": "code",
   "execution_count": 7,
   "metadata": {
    "ExecuteTime": {
     "end_time": "2020-10-23T18:20:37.305793Z",
     "start_time": "2020-10-23T18:20:35.988Z"
    }
   },
   "outputs": [],
   "source": [
    "set.seed(130)\n",
    "options(warn=-1)\n",
    "cv <- trainControl(method = \"repeatedcv\", number = 10, savePredictions = TRUE,\n",
    "                  summaryFunction=twoClassSummary, classProbs = TRUE)\n",
    "\n",
    "\n",
    "model <- train(ADMIT~., data = dfTrain, method = \"glm\", \n",
    "                   metric=\"ROC\",trControl = cv, control = list(maxit = 50))"
   ]
  },
  {
   "cell_type": "markdown",
   "metadata": {},
   "source": [
    "6° Passo\n",
    "\n",
    "Chamando o modelo obtemos informações como:\n",
    "\n",
    "Número de amostras no treino\n",
    "\n",
    "Número de features preditoras\n",
    "\n",
    "Sensitividade e Specificidade do Modelo"
   ]
  },
  {
   "cell_type": "code",
   "execution_count": 8,
   "metadata": {
    "ExecuteTime": {
     "end_time": "2020-10-23T18:20:38.458788Z",
     "start_time": "2020-10-23T18:20:38.357Z"
    }
   },
   "outputs": [
    {
     "data": {
      "text/plain": [
       "Generalized Linear Model \n",
       "\n",
       "281 samples\n",
       "  3 predictor\n",
       "  2 classes: 'No', 'Yes' \n",
       "\n",
       "No pre-processing\n",
       "Resampling: Cross-Validated (10 fold, repeated 1 times) \n",
       "Summary of sample sizes: 254, 252, 253, 253, 253, 253, ... \n",
       "Resampling results:\n",
       "\n",
       "  ROC       Sens       Spec \n",
       "  0.687924  0.9271053  0.225\n"
      ]
     },
     "metadata": {},
     "output_type": "display_data"
    }
   ],
   "source": [
    "model"
   ]
  },
  {
   "cell_type": "markdown",
   "metadata": {},
   "source": [
    "7° Passo\n",
    "\n",
    "Abaixo agora vamos obter os coeficientes do modelo, isto é:\n",
    "\n",
    "z=α1(X1)+α2(X2)+α3(X3).... \n",
    "z=α1(RANK)+α2(GPA)+α3(GRE).... \n",
    "Pr(Approved=Yes)=1/1+e−z"
   ]
  },
  {
   "cell_type": "code",
   "execution_count": 9,
   "metadata": {
    "ExecuteTime": {
     "end_time": "2020-10-23T18:20:40.830777Z",
     "start_time": "2020-10-23T18:20:40.765Z"
    }
   },
   "outputs": [],
   "source": [
    "dfPred <- predict(model, newdata=dfTest)"
   ]
  },
  {
   "cell_type": "markdown",
   "metadata": {},
   "source": [
    "8° Passo\n",
    "\n",
    "Adicionando matriz de confusão para validação do modelo logístico.\n",
    "\n",
    "## Matriz de Confusão"
   ]
  },
  {
   "cell_type": "code",
   "execution_count": 10,
   "metadata": {
    "ExecuteTime": {
     "end_time": "2020-10-23T18:20:43.639767Z",
     "start_time": "2020-10-23T18:20:43.425Z"
    }
   },
   "outputs": [
    {
     "data": {
      "text/plain": [
       "Confusion Matrix and Statistics\n",
       "\n",
       "          Reference\n",
       "Prediction No Yes\n",
       "       No  77  33\n",
       "       Yes  4   5\n",
       "                                          \n",
       "               Accuracy : 0.6891          \n",
       "                 95% CI : (0.5977, 0.7707)\n",
       "    No Information Rate : 0.6807          \n",
       "    P-Value [Acc > NIR] : 0.4656          \n",
       "                                          \n",
       "                  Kappa : 0.1031          \n",
       "                                          \n",
       " Mcnemar's Test P-Value : 4.161e-06       \n",
       "                                          \n",
       "            Sensitivity : 0.9506          \n",
       "            Specificity : 0.1316          \n",
       "         Pos Pred Value : 0.7000          \n",
       "         Neg Pred Value : 0.5556          \n",
       "             Prevalence : 0.6807          \n",
       "         Detection Rate : 0.6471          \n",
       "   Detection Prevalence : 0.9244          \n",
       "      Balanced Accuracy : 0.5411          \n",
       "                                          \n",
       "       'Positive' Class : No              \n",
       "                                          "
      ]
     },
     "metadata": {},
     "output_type": "display_data"
    }
   ],
   "source": [
    "confusionMatrix(data=dfPred, dfTest$ADMIT)"
   ]
  },
  {
   "cell_type": "markdown",
   "metadata": {},
   "source": [
    "9° Passo\n",
    "\n",
    "Agora podemos fazer o score do modelo na base de teste e obter as probabilidades de cada classe de acordo com o modelo"
   ]
  },
  {
   "cell_type": "code",
   "execution_count": 11,
   "metadata": {
    "ExecuteTime": {
     "end_time": "2020-10-23T18:20:45.846758Z",
     "start_time": "2020-10-23T18:20:45.737Z"
    }
   },
   "outputs": [
    {
     "data": {
      "text/html": [
       "<table>\n",
       "<thead><tr><th></th><th scope=col>No</th><th scope=col>Yes</th></tr></thead>\n",
       "<tbody>\n",
       "\t<tr><th scope=row>1</th><td>0.8271321 </td><td>0.17286794</td></tr>\n",
       "\t<tr><th scope=row>3</th><td>0.2800864 </td><td>0.71991358</td></tr>\n",
       "\t<tr><th scope=row>7</th><td>0.6276584 </td><td>0.37234161</td></tr>\n",
       "\t<tr><th scope=row>8</th><td>0.8027905 </td><td>0.19720954</td></tr>\n",
       "\t<tr><th scope=row>18</th><td>0.9226343 </td><td>0.07736572</td></tr>\n",
       "\t<tr><th scope=row>20</th><td>0.4735969 </td><td>0.52640312</td></tr>\n",
       "</tbody>\n",
       "</table>\n"
      ],
      "text/latex": [
       "\\begin{tabular}{r|ll}\n",
       "  & No & Yes\\\\\n",
       "\\hline\n",
       "\t1 & 0.8271321  & 0.17286794\\\\\n",
       "\t3 & 0.2800864  & 0.71991358\\\\\n",
       "\t7 & 0.6276584  & 0.37234161\\\\\n",
       "\t8 & 0.8027905  & 0.19720954\\\\\n",
       "\t18 & 0.9226343  & 0.07736572\\\\\n",
       "\t20 & 0.4735969  & 0.52640312\\\\\n",
       "\\end{tabular}\n"
      ],
      "text/markdown": [
       "\n",
       "| <!--/--> | No | Yes |\n",
       "|---|---|---|\n",
       "| 1 | 0.8271321  | 0.17286794 |\n",
       "| 3 | 0.2800864  | 0.71991358 |\n",
       "| 7 | 0.6276584  | 0.37234161 |\n",
       "| 8 | 0.8027905  | 0.19720954 |\n",
       "| 18 | 0.9226343  | 0.07736572 |\n",
       "| 20 | 0.4735969  | 0.52640312 |\n",
       "\n"
      ],
      "text/plain": [
       "   No        Yes       \n",
       "1  0.8271321 0.17286794\n",
       "3  0.2800864 0.71991358\n",
       "7  0.6276584 0.37234161\n",
       "8  0.8027905 0.19720954\n",
       "18 0.9226343 0.07736572\n",
       "20 0.4735969 0.52640312"
      ]
     },
     "metadata": {},
     "output_type": "display_data"
    }
   ],
   "source": [
    "dfProbs <- predict(model, newdata=dfTest, type=\"prob\")\n",
    "head(dfProbs)"
   ]
  },
  {
   "cell_type": "markdown",
   "metadata": {},
   "source": [
    "10° Passo\n",
    "\n",
    "Agora usando a biblioteca pROC vamos fazer um plot da curva ROC"
   ]
  },
  {
   "cell_type": "code",
   "execution_count": 12,
   "metadata": {
    "ExecuteTime": {
     "end_time": "2020-10-23T18:20:48.304359Z",
     "start_time": "2020-10-23T18:20:48.019Z"
    }
   },
   "outputs": [
    {
     "name": "stderr",
     "output_type": "stream",
     "text": [
      "Setting direction: controls > cases\n"
     ]
    },
    {
     "data": {
      "text/html": [
       "0.695743989603639"
      ],
      "text/latex": [
       "0.695743989603639"
      ],
      "text/markdown": [
       "0.695743989603639"
      ],
      "text/plain": [
       "Area under the curve: 0.6957"
      ]
     },
     "metadata": {},
     "output_type": "display_data"
    },
    {
     "data": {
      "image/png": "[encoded data removed]",
      "text/plain": [
       "Plot with title \"Curva ROC\""
      ]
     },
     "metadata": {},
     "output_type": "display_data"
    }
   ],
   "source": [
    "gbm.ROC <- roc(predictor=dfProbs$Yes,\n",
    "               response=dfTest$ADMIT,\n",
    "               levels=rev(levels(dfTest$ADMIT)))\n",
    "\n",
    "gbm.ROC$auc\n",
    "plot(gbm.ROC,main=\"Curva ROC\")"
   ]
  },
  {
   "cell_type": "markdown",
   "metadata": {},
   "source": [
    "11° Passo\n",
    "\n",
    "Utilizando a função VarImp do mlbench e plotando sua tabela vemos em oredem as features mais importantes do modelos"
   ]
  },
  {
   "cell_type": "code",
   "execution_count": 13,
   "metadata": {
    "ExecuteTime": {
     "end_time": "2020-10-23T18:20:51.473937Z",
     "start_time": "2020-10-23T18:20:50.877Z"
    }
   },
   "outputs": [
    {
     "data": {
      "text/plain": [
       "ROC curve variable importance\n",
       "\n",
       "     Importance\n",
       "RANK     0.6348\n",
       "GPA      0.6299\n",
       "GRE      0.6184"
      ]
     },
     "metadata": {},
     "output_type": "display_data"
    },
    {
     "data": {
      "image/png": "[encoded data removed]",
      "text/plain": [
       "plot without title"
      ]
     },
     "metadata": {},
     "output_type": "display_data"
    }
   ],
   "source": [
    "imp <- varImp(model, useModel=FALSE, scale=FALSE)\n",
    "imp\n",
    "plot(imp)"
   ]
  },
  {
   "cell_type": "code",
   "execution_count": null,
   "metadata": {},
   "outputs": [],
   "source": []
  }
 ],
 "metadata": {
  "kernelspec": {
   "display_name": "R",
   "language": "R",
   "name": "ir"
  },
  "language_info": {
   "codemirror_mode": "r",
   "file_extension": ".r",
   "mimetype": "text/x-r-source",
   "name": "R",
   "pygments_lexer": "r",
   "version": "3.6.1"
  }
 },
 "nbformat": 4,
 "nbformat_minor": 4
}
