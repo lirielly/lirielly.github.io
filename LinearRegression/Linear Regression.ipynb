{
 "cells": [
  {
   "cell_type": "markdown",
   "metadata": {},
   "source": [
    "## Modelagem Preditiva Avançada\n",
    "\n",
    "### Regressão Linear - Teoria\n",
    "\n",
    "Feature | Descrição\t| Tipo\n",
    "-----------|--------|------\n",
    "AGE |Idade em Dias | Real\n",
    "TEMPERATURE\t| Temperatura da Agua | Real\n",
    "SIZE | Tamanho do Peixe | Real\n",
    "\n",
    "\n",
    "1° Passo \n",
    "\n",
    "Primeiramente vamos importar os seguinter pacotes:\n",
    "\n",
    "+ **caret**: Biblioteca para funcionalidade de ML \n",
    "+ **mlbench**: Biblioteca para Validação de Modelos \n",
    "+ **ggplot2**: Biblioteca para visualização de dados"
   ]
  },
  {
   "cell_type": "code",
   "execution_count": 1,
   "metadata": {
    "ExecuteTime": {
     "end_time": "2020-10-20T22:23:12.900157Z",
     "start_time": "2020-10-20T22:23:05.137Z"
    }
   },
   "outputs": [
    {
     "name": "stderr",
     "output_type": "stream",
     "text": [
      "Loading required package: lattice\n",
      "Loading required package: ggplot2\n",
      "Registered S3 methods overwritten by 'ggplot2':\n",
      "  method         from \n",
      "  [.quosures     rlang\n",
      "  c.quosures     rlang\n",
      "  print.quosures rlang\n"
     ]
    }
   ],
   "source": [
    "library(caret)\n",
    "library(mlbench)\n",
    "library(ggplot2)"
   ]
  },
  {
   "cell_type": "markdown",
   "metadata": {},
   "source": [
    "2° Passo\n",
    "\n",
    "Agora vamos carregar o dataset, com cabeçalho (header=TRUE) e o separador de colunas sendo ','."
   ]
  },
  {
   "cell_type": "code",
   "execution_count": 2,
   "metadata": {
    "ExecuteTime": {
     "end_time": "2020-10-20T22:23:13.824218Z",
     "start_time": "2020-10-20T22:23:08.167Z"
    }
   },
   "outputs": [],
   "source": [
    "df <- read.csv(file=\"C:/Users/01549098/Documents/Analise_Preditiva_Avancada/Linear Regression/FIsh.csv\", header=TRUE, sep=\",\")"
   ]
  },
  {
   "cell_type": "markdown",
   "metadata": {},
   "source": [
    "3° Passo\n",
    "\n",
    "Agora vamos fazer uma rápida análise dos dados buscando identificar algumas relações visualmente e também verificar a qualidade dos dados."
   ]
  },
  {
   "cell_type": "markdown",
   "metadata": {},
   "source": [
    "### Análise dos Dados"
   ]
  },
  {
   "cell_type": "code",
   "execution_count": 3,
   "metadata": {
    "ExecuteTime": {
     "end_time": "2020-10-20T22:23:13.983218Z",
     "start_time": "2020-10-20T22:23:11.621Z"
    }
   },
   "outputs": [
    {
     "data": {
      "text/html": [
       "<table>\n",
       "<thead><tr><th scope=col>AGE</th><th scope=col>TEMPERATURE</th><th scope=col>SIZE</th></tr></thead>\n",
       "<tbody>\n",
       "\t<tr><td>14  </td><td>25  </td><td> 620</td></tr>\n",
       "\t<tr><td>28  </td><td>25  </td><td>1315</td></tr>\n",
       "\t<tr><td>41  </td><td>25  </td><td>2120</td></tr>\n",
       "\t<tr><td>55  </td><td>25  </td><td>2600</td></tr>\n",
       "\t<tr><td>69  </td><td>25  </td><td>3110</td></tr>\n",
       "\t<tr><td>83  </td><td>25  </td><td>3535</td></tr>\n",
       "</tbody>\n",
       "</table>\n"
      ],
      "text/latex": [
       "\\begin{tabular}{r|lll}\n",
       " AGE & TEMPERATURE & SIZE\\\\\n",
       "\\hline\n",
       "\t 14   & 25   &  620\\\\\n",
       "\t 28   & 25   & 1315\\\\\n",
       "\t 41   & 25   & 2120\\\\\n",
       "\t 55   & 25   & 2600\\\\\n",
       "\t 69   & 25   & 3110\\\\\n",
       "\t 83   & 25   & 3535\\\\\n",
       "\\end{tabular}\n"
      ],
      "text/markdown": [
       "\n",
       "| AGE | TEMPERATURE | SIZE |\n",
       "|---|---|---|\n",
       "| 14   | 25   |  620 |\n",
       "| 28   | 25   | 1315 |\n",
       "| 41   | 25   | 2120 |\n",
       "| 55   | 25   | 2600 |\n",
       "| 69   | 25   | 3110 |\n",
       "| 83   | 25   | 3535 |\n",
       "\n"
      ],
      "text/plain": [
       "  AGE TEMPERATURE SIZE\n",
       "1 14  25           620\n",
       "2 28  25          1315\n",
       "3 41  25          2120\n",
       "4 55  25          2600\n",
       "5 69  25          3110\n",
       "6 83  25          3535"
      ]
     },
     "metadata": {},
     "output_type": "display_data"
    }
   ],
   "source": [
    "head(df)"
   ]
  },
  {
   "cell_type": "code",
   "execution_count": 4,
   "metadata": {
    "ExecuteTime": {
     "end_time": "2020-10-20T22:23:14.094323Z",
     "start_time": "2020-10-20T22:23:13.502Z"
    }
   },
   "outputs": [],
   "source": [
    "df$AGE <- as.numeric(df$AGE)\n",
    "df$TEMPERATURE <- as.numeric(df$TEMPERATURE)\n",
    "df$SIZE <- as.numeric(df$SIZE)"
   ]
  },
  {
   "cell_type": "code",
   "execution_count": 5,
   "metadata": {
    "ExecuteTime": {
     "end_time": "2020-10-20T22:23:14.295476Z",
     "start_time": "2020-10-20T22:23:13.948Z"
    }
   },
   "outputs": [
    {
     "data": {
      "text/plain": [
       "      AGE          TEMPERATURE        SIZE     \n",
       " Min.   : 14.00   Min.   :25.0   Min.   : 590  \n",
       " 1st Qu.: 41.00   1st Qu.:26.5   1st Qu.:2135  \n",
       " Median : 83.00   Median :28.0   Median :3197  \n",
       " Mean   : 83.18   Mean   :28.0   Mean   :3107  \n",
       " 3rd Qu.:125.00   3rd Qu.:29.5   3rd Qu.:4500  \n",
       " Max.   :153.00   Max.   :31.0   Max.   :4600  "
      ]
     },
     "metadata": {},
     "output_type": "display_data"
    }
   ],
   "source": [
    "summary(df)"
   ]
  },
  {
   "cell_type": "code",
   "execution_count": 6,
   "metadata": {
    "ExecuteTime": {
     "end_time": "2020-10-20T22:23:16.382074Z",
     "start_time": "2020-10-20T22:23:15.805Z"
    }
   },
   "outputs": [
    {
     "data": {
      "image/png": "[encoded data removed]",
      "text/plain": [
       "plot without title"
      ]
     },
     "metadata": {},
     "output_type": "display_data"
    }
   ],
   "source": [
    "ggplot(data = df, aes(x = SIZE, y = AGE)) + geom_point()"
   ]
  },
  {
   "cell_type": "markdown",
   "metadata": {},
   "source": [
    "### Particionando Dados em Treino e Teste"
   ]
  },
  {
   "cell_type": "markdown",
   "metadata": {},
   "source": [
    "4° Passo\n",
    "\n",
    "Agora vamos particionar o dataset em treino/teste. Para isso definimos \"p=0.7\", isto é 70% da base será escolhida aleatóriamente para treino e 30% para teste do modelo.\n",
    "\n",
    "Observe também que o \"set.seed(x)\" garante que ao replicarmos essa partição em outro computador por exemplo, os mesmos dados irão respectivamente prar treino e teste"
   ]
  },
  {
   "cell_type": "code",
   "execution_count": 7,
   "metadata": {
    "ExecuteTime": {
     "end_time": "2020-10-20T22:23:19.471099Z",
     "start_time": "2020-10-20T22:23:19.334Z"
    }
   },
   "outputs": [],
   "source": [
    "set.seed(280)\n",
    "trainIndex <- createDataPartition(df$SIZE, p = .7, list = FALSE)"
   ]
  },
  {
   "cell_type": "code",
   "execution_count": 8,
   "metadata": {
    "ExecuteTime": {
     "end_time": "2020-10-20T22:23:19.951231Z",
     "start_time": "2020-10-20T22:23:19.895Z"
    }
   },
   "outputs": [],
   "source": [
    "dfTrain <- df[ trainIndex,]\n",
    "dfTest  <- df[-trainIndex,]"
   ]
  },
  {
   "cell_type": "markdown",
   "metadata": {},
   "source": [
    "### Treinando Modelo Univariado"
   ]
  },
  {
   "cell_type": "markdown",
   "metadata": {},
   "source": [
    "5° Passo\n",
    "\n",
    "Observe que em \"method\" definimos \"lm\" de linear model e que definimos variável target sendo medv e inicialmente colocamos apenas a variável PRATIO como preditora.\""
   ]
  },
  {
   "cell_type": "code",
   "execution_count": 9,
   "metadata": {
    "ExecuteTime": {
     "end_time": "2020-10-20T22:23:25.247203Z",
     "start_time": "2020-10-20T22:23:23.148Z"
    }
   },
   "outputs": [],
   "source": [
    "set.seed(130)\n",
    "model_uni <- train(SIZE~AGE, data = dfTrain ,method = \"lm\")"
   ]
  },
  {
   "cell_type": "markdown",
   "metadata": {},
   "source": [
    "### Validação Modelo\n",
    "\n",
    "6° Passo\n",
    "\n",
    "Chamando o modelo obtemos informações como:\n",
    "\n",
    "Número de amostras no treino\n",
    "\n",
    "R2\n",
    "\n",
    "etc"
   ]
  },
  {
   "cell_type": "code",
   "execution_count": 10,
   "metadata": {
    "ExecuteTime": {
     "end_time": "2020-10-20T22:23:26.218261Z",
     "start_time": "2020-10-20T22:23:26.135Z"
    }
   },
   "outputs": [
    {
     "data": {
      "text/plain": [
       "Linear Regression \n",
       "\n",
       "32 samples\n",
       " 1 predictor\n",
       "\n",
       "No pre-processing\n",
       "Resampling: Bootstrapped (25 reps) \n",
       "Summary of sample sizes: 32, 32, 32, 32, 32, 32, ... \n",
       "Resampling results:\n",
       "\n",
       "  RMSE      Rsquared   MAE     \n",
       "  706.5058  0.8009968  582.7788\n",
       "\n",
       "Tuning parameter 'intercept' was held constant at a value of TRUE"
      ]
     },
     "metadata": {},
     "output_type": "display_data"
    }
   ],
   "source": [
    "model_uni"
   ]
  },
  {
   "cell_type": "markdown",
   "metadata": {},
   "source": [
    "7° Passo\n",
    "\n",
    "Abaixo agora vamos obter os coeficientes do modelo, isto é:\n",
    "\n",
    "y=α1(X1)+α2(X2)+α3(X3).... \n",
    "\n",
    "SIZE=α1(AGE)+α2(TEMPERATURE)...."
   ]
  },
  {
   "cell_type": "code",
   "execution_count": 11,
   "metadata": {
    "ExecuteTime": {
     "end_time": "2020-10-20T22:23:29.010751Z",
     "start_time": "2020-10-20T22:23:28.935Z"
    }
   },
   "outputs": [],
   "source": [
    "coef.icept <- coef(model_uni$finalModel)[1]\n",
    "coef.slope <- coef(model_uni$finalModel)[2]"
   ]
  },
  {
   "cell_type": "code",
   "execution_count": 12,
   "metadata": {
    "ExecuteTime": {
     "end_time": "2020-10-20T22:23:36.828817Z",
     "start_time": "2020-10-20T22:23:36.762Z"
    }
   },
   "outputs": [
    {
     "data": {
      "text/html": [
       "<strong>(Intercept):</strong> 868.643342144665"
      ],
      "text/latex": [
       "\\textbf{(Intercept):} 868.643342144665"
      ],
      "text/markdown": [
       "**(Intercept):** 868.643342144665"
      ],
      "text/plain": [
       "(Intercept) \n",
       "   868.6433 "
      ]
     },
     "metadata": {},
     "output_type": "display_data"
    }
   ],
   "source": [
    "coef.icept"
   ]
  },
  {
   "cell_type": "code",
   "execution_count": 13,
   "metadata": {
    "ExecuteTime": {
     "end_time": "2020-10-20T22:23:46.099473Z",
     "start_time": "2020-10-20T22:23:46.023Z"
    }
   },
   "outputs": [
    {
     "data": {
      "text/html": [
       "<strong>AGE:</strong> 26.0458184310876"
      ],
      "text/latex": [
       "\\textbf{AGE:} 26.0458184310876"
      ],
      "text/markdown": [
       "**AGE:** 26.0458184310876"
      ],
      "text/plain": [
       "     AGE \n",
       "26.04582 "
      ]
     },
     "metadata": {},
     "output_type": "display_data"
    }
   ],
   "source": [
    "coef.slope"
   ]
  },
  {
   "cell_type": "markdown",
   "metadata": {},
   "source": [
    "8° Passo\n",
    "\n",
    "Adicionando Gráfico para visualização do modelo linear no dataset."
   ]
  },
  {
   "cell_type": "code",
   "execution_count": 12,
   "metadata": {
    "ExecuteTime": {
     "end_time": "2020-10-19T23:06:10.095900Z",
     "start_time": "2020-10-19T23:06:09.304Z"
    }
   },
   "outputs": [
    {
     "data": {
      "image/png": "[encoded data removed]",
      "text/plain": [
       "plot without title"
      ]
     },
     "metadata": {},
     "output_type": "display_data"
    }
   ],
   "source": [
    "ggplot(data = df, aes(x = SIZE, y = AGE)) +\n",
    "  geom_point() +\n",
    "  stat_smooth(method ='lm', col='blue')"
   ]
  },
  {
   "cell_type": "markdown",
   "metadata": {},
   "source": [
    "### Treinando Modelo Multivariado\n",
    "9° Passo\n",
    "\n",
    "Agora vamos treinar o modelo utilizando todas as variáveis disponíveis."
   ]
  },
  {
   "cell_type": "code",
   "execution_count": 16,
   "metadata": {
    "ExecuteTime": {
     "end_time": "2020-10-20T22:25:31.078550Z",
     "start_time": "2020-10-20T22:25:29.210Z"
    }
   },
   "outputs": [],
   "source": [
    "set.seed(149)\n",
    "model_mult <- train(SIZE~., data = dfTrain ,method = \"lm\")"
   ]
  },
  {
   "cell_type": "code",
   "execution_count": 17,
   "metadata": {
    "ExecuteTime": {
     "end_time": "2020-10-20T22:25:31.318567Z",
     "start_time": "2020-10-20T22:25:30.008Z"
    }
   },
   "outputs": [
    {
     "data": {
      "text/plain": [
       "Linear Regression \n",
       "\n",
       "32 samples\n",
       " 2 predictor\n",
       "\n",
       "No pre-processing\n",
       "Resampling: Bootstrapped (25 reps) \n",
       "Summary of sample sizes: 32, 32, 32, 32, 32, 32, ... \n",
       "Resampling results:\n",
       "\n",
       "  RMSE      Rsquared   MAE    \n",
       "  606.4458  0.8100394  475.454\n",
       "\n",
       "Tuning parameter 'intercept' was held constant at a value of TRUE"
      ]
     },
     "metadata": {},
     "output_type": "display_data"
    }
   ],
   "source": [
    "model_mult"
   ]
  },
  {
   "cell_type": "code",
   "execution_count": 20,
   "metadata": {
    "ExecuteTime": {
     "end_time": "2020-10-20T22:26:04.036153Z",
     "start_time": "2020-10-20T22:26:03.881Z"
    }
   },
   "outputs": [
    {
     "data": {
      "text/html": [
       "<strong>(Intercept):</strong> 4877.6398521442"
      ],
      "text/latex": [
       "\\textbf{(Intercept):} 4877.6398521442"
      ],
      "text/markdown": [
       "**(Intercept):** 4877.6398521442"
      ],
      "text/plain": [
       "(Intercept) \n",
       "    4877.64 "
      ]
     },
     "metadata": {},
     "output_type": "display_data"
    },
    {
     "data": {
      "text/html": [
       "<strong>AGE:</strong> 26.3249971302289"
      ],
      "text/latex": [
       "\\textbf{AGE:} 26.3249971302289"
      ],
      "text/markdown": [
       "**AGE:** 26.3249971302289"
      ],
      "text/plain": [
       "   AGE \n",
       "26.325 "
      ]
     },
     "metadata": {},
     "output_type": "display_data"
    },
    {
     "data": {
      "text/html": [
       "<strong>TEMPERATURE:</strong> -143.717307740441"
      ],
      "text/latex": [
       "\\textbf{TEMPERATURE:} -143.717307740441"
      ],
      "text/markdown": [
       "**TEMPERATURE:** -143.717307740441"
      ],
      "text/plain": [
       "TEMPERATURE \n",
       "  -143.7173 "
      ]
     },
     "metadata": {},
     "output_type": "display_data"
    }
   ],
   "source": [
    "coef.icept <- coef(model_mult$finalModel)[1]\n",
    "coef.slope <- coef(model_mult$finalModel)[2]\n",
    "coef.slope2 <- coef(model_mult$finalModel)[3]\n",
    "coef.slope3 <- coef(model_mult$finalModel)[4]\n",
    "coef.icept\n",
    "coef.slope\n",
    "coef.slope2"
   ]
  },
  {
   "cell_type": "code",
   "execution_count": 24,
   "metadata": {
    "ExecuteTime": {
     "end_time": "2020-10-20T22:27:14.353788Z",
     "start_time": "2020-10-20T22:27:14.295Z"
    }
   },
   "outputs": [
    {
     "data": {
      "text/html": [
       "<dl class=dl-horizontal>\n",
       "\t<dt>(Intercept)</dt>\n",
       "\t\t<dd>4877.6398521442</dd>\n",
       "\t<dt>AGE</dt>\n",
       "\t\t<dd>26.3249971302289</dd>\n",
       "\t<dt>TEMPERATURE</dt>\n",
       "\t\t<dd>-143.717307740441</dd>\n",
       "</dl>\n"
      ],
      "text/latex": [
       "\\begin{description*}\n",
       "\\item[(Intercept)] 4877.6398521442\n",
       "\\item[AGE] 26.3249971302289\n",
       "\\item[TEMPERATURE] -143.717307740441\n",
       "\\end{description*}\n"
      ],
      "text/markdown": [
       "(Intercept)\n",
       ":   4877.6398521442AGE\n",
       ":   26.3249971302289TEMPERATURE\n",
       ":   -143.717307740441\n",
       "\n"
      ],
      "text/plain": [
       "(Intercept)         AGE TEMPERATURE \n",
       "  4877.6399     26.3250   -143.7173 "
      ]
     },
     "metadata": {},
     "output_type": "display_data"
    }
   ],
   "source": [
    "coef(model_mult$finalModel)"
   ]
  },
  {
   "cell_type": "markdown",
   "metadata": {},
   "source": [
    "10° Passo\n",
    "\n",
    "Utilizando a função VarImp do mlbench e plotando sua tabela vemos em oredem as features mais importantes do modelos"
   ]
  },
  {
   "cell_type": "code",
   "execution_count": 15,
   "metadata": {
    "ExecuteTime": {
     "end_time": "2020-10-19T23:08:17.392549Z",
     "start_time": "2020-10-19T23:08:16.860Z"
    }
   },
   "outputs": [
    {
     "data": {
      "text/plain": [
       "loess r-squared variable importance\n",
       "\n",
       "            Overall\n",
       "AGE         0.87148\n",
       "TEMPERATURE 0.05217"
      ]
     },
     "metadata": {},
     "output_type": "display_data"
    },
    {
     "data": {
      "image/png": "[encoded data removed]",
      "text/plain": [
       "plot without title"
      ]
     },
     "metadata": {},
     "output_type": "display_data"
    }
   ],
   "source": [
    "imp <- varImp(model_mult ,useModel=FALSE, scale=FALSE)\n",
    "imp\n",
    "plot(imp)"
   ]
  },
  {
   "cell_type": "markdown",
   "metadata": {},
   "source": [
    "11° Passo\n",
    "\n",
    "Agora com o modelo treinado podemos fazer o \"scoring\" nos dados que haviam sindo separados para teste e quaisquer outros que o modelo ainda não tenha visto."
   ]
  },
  {
   "cell_type": "code",
   "execution_count": 16,
   "metadata": {
    "ExecuteTime": {
     "end_time": "2020-10-19T23:09:26.888557Z",
     "start_time": "2020-10-19T23:09:26.793Z"
    }
   },
   "outputs": [
    {
     "data": {
      "text/html": [
       "<table>\n",
       "<thead><tr><th></th><th scope=col>AGE</th><th scope=col>TEMPERATURE</th><th scope=col>SIZE</th><th scope=col>Model</th><th scope=col>Differenca</th></tr></thead>\n",
       "<tbody>\n",
       "\t<tr><th scope=row>2</th><td> 28       </td><td>25        </td><td>1315      </td><td>2021.807  </td><td>-706.80708</td></tr>\n",
       "\t<tr><th scope=row>11</th><td>153       </td><td>25        </td><td>4600      </td><td>5312.432  </td><td>-712.43172</td></tr>\n",
       "\t<tr><th scope=row>13</th><td> 28       </td><td>27        </td><td>1215      </td><td>1734.372  </td><td>-519.37246</td></tr>\n",
       "\t<tr><th scope=row>15</th><td> 55       </td><td>27        </td><td>2805      </td><td>2445.147  </td><td> 359.85261</td></tr>\n",
       "\t<tr><th scope=row>17</th><td> 83       </td><td>27        </td><td>4015      </td><td>3182.247  </td><td> 832.75270</td></tr>\n",
       "\t<tr><th scope=row>21</th><td>139       </td><td>27        </td><td>4600      </td><td>4656.447  </td><td> -56.44714</td></tr>\n",
       "</tbody>\n",
       "</table>\n"
      ],
      "text/latex": [
       "\\begin{tabular}{r|lllll}\n",
       "  & AGE & TEMPERATURE & SIZE & Model & Differenca\\\\\n",
       "\\hline\n",
       "\t2 &  28        & 25         & 1315       & 2021.807   & -706.80708\\\\\n",
       "\t11 & 153        & 25         & 4600       & 5312.432   & -712.43172\\\\\n",
       "\t13 &  28        & 27         & 1215       & 1734.372   & -519.37246\\\\\n",
       "\t15 &  55        & 27         & 2805       & 2445.147   &  359.85261\\\\\n",
       "\t17 &  83        & 27         & 4015       & 3182.247   &  832.75270\\\\\n",
       "\t21 & 139        & 27         & 4600       & 4656.447   &  -56.44714\\\\\n",
       "\\end{tabular}\n"
      ],
      "text/markdown": [
       "\n",
       "| <!--/--> | AGE | TEMPERATURE | SIZE | Model | Differenca |\n",
       "|---|---|---|---|---|---|\n",
       "| 2 |  28        | 25         | 1315       | 2021.807   | -706.80708 |\n",
       "| 11 | 153        | 25         | 4600       | 5312.432   | -712.43172 |\n",
       "| 13 |  28        | 27         | 1215       | 1734.372   | -519.37246 |\n",
       "| 15 |  55        | 27         | 2805       | 2445.147   |  359.85261 |\n",
       "| 17 |  83        | 27         | 4015       | 3182.247   |  832.75270 |\n",
       "| 21 | 139        | 27         | 4600       | 4656.447   |  -56.44714 |\n",
       "\n"
      ],
      "text/plain": [
       "   AGE TEMPERATURE SIZE Model    Differenca\n",
       "2   28 25          1315 2021.807 -706.80708\n",
       "11 153 25          4600 5312.432 -712.43172\n",
       "13  28 27          1215 1734.372 -519.37246\n",
       "15  55 27          2805 2445.147  359.85261\n",
       "17  83 27          4015 3182.247  832.75270\n",
       "21 139 27          4600 4656.447  -56.44714"
      ]
     },
     "metadata": {},
     "output_type": "display_data"
    }
   ],
   "source": [
    "y_Model <- predict(model_mult, dfTest)\n",
    "dfTest$Model <- y_Model\n",
    "dfTest$Differenca <- (dfTest$SIZE - dfTest$Model)\n",
    "head(dfTest)"
   ]
  },
  {
   "cell_type": "code",
   "execution_count": null,
   "metadata": {},
   "outputs": [],
   "source": []
  }
 ],
 "metadata": {
  "kernelspec": {
   "display_name": "R",
   "language": "R",
   "name": "ir"
  },
  "language_info": {
   "codemirror_mode": "r",
   "file_extension": ".r",
   "mimetype": "text/x-r-source",
   "name": "R",
   "pygments_lexer": "r",
   "version": "3.6.1"
  }
 },
 "nbformat": 4,
 "nbformat_minor": 4
}
