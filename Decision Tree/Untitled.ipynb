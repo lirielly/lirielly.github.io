{
 "cells": [
  {
   "cell_type": "code",
   "execution_count": 1,
   "metadata": {
    "ExecuteTime": {
     "end_time": "2020-10-21T00:16:53.577145Z",
     "start_time": "2020-10-21T00:16:42.936Z"
    }
   },
   "outputs": [
    {
     "name": "stderr",
     "output_type": "stream",
     "text": [
      "Loading required package: lattice\n",
      "Loading required package: ggplot2\n",
      "Registered S3 methods overwritten by 'ggplot2':\n",
      "  method         from \n",
      "  [.quosures     rlang\n",
      "  c.quosures     rlang\n",
      "  print.quosures rlang\n"
     ]
    }
   ],
   "source": [
    "library(caret)\n",
    "library(mlbench)"
   ]
  },
  {
   "cell_type": "code",
   "execution_count": 2,
   "metadata": {
    "ExecuteTime": {
     "end_time": "2020-10-21T00:17:35.747763Z",
     "start_time": "2020-10-21T00:17:35.056Z"
    }
   },
   "outputs": [],
   "source": [
    "path <- \"C:\\\\Users\\\\01549098\\\\Documents\\\\Analise_Preditiva_Avancada\\\\Decision Tree\\\\Admission_Predict.csv\"\n",
    "df <- read.csv(file=path, header=TRUE, sep=\";\")"
   ]
  },
  {
   "cell_type": "code",
   "execution_count": 3,
   "metadata": {
    "ExecuteTime": {
     "end_time": "2020-10-21T00:17:44.053355Z",
     "start_time": "2020-10-21T00:17:43.930Z"
    }
   },
   "outputs": [
    {
     "data": {
      "text/html": [
       "<table>\n",
       "<thead><tr><th scope=col>S_ID</th><th scope=col>GRE</th><th scope=col>TOFEL</th><th scope=col>UNIVERSITY_RATING</th><th scope=col>SOP</th><th scope=col>LOR</th><th scope=col>CGPA</th><th scope=col>RESEARCH</th><th scope=col>RANK</th></tr></thead>\n",
       "<tbody>\n",
       "\t<tr><td>1   </td><td>337 </td><td>118 </td><td>4   </td><td>4.5 </td><td>4.5 </td><td>9.65</td><td>1   </td><td>A   </td></tr>\n",
       "\t<tr><td>2   </td><td>324 </td><td>107 </td><td>4   </td><td>4.0 </td><td>4.5 </td><td>8.87</td><td>1   </td><td>B   </td></tr>\n",
       "\t<tr><td>3   </td><td>316 </td><td>104 </td><td>3   </td><td>3.0 </td><td>3.5 </td><td>8.00</td><td>1   </td><td>B   </td></tr>\n",
       "\t<tr><td>4   </td><td>322 </td><td>110 </td><td>3   </td><td>3.5 </td><td>2.5 </td><td>8.67</td><td>1   </td><td>B   </td></tr>\n",
       "\t<tr><td>5   </td><td>314 </td><td>103 </td><td>2   </td><td>2.0 </td><td>3.0 </td><td>8.21</td><td>0   </td><td>B   </td></tr>\n",
       "\t<tr><td>6   </td><td>330 </td><td>115 </td><td>5   </td><td>4.5 </td><td>3.0 </td><td>9.34</td><td>1   </td><td>A   </td></tr>\n",
       "</tbody>\n",
       "</table>\n"
      ],
      "text/latex": [
       "\\begin{tabular}{r|lllllllll}\n",
       " S\\_ID & GRE & TOFEL & UNIVERSITY\\_RATING & SOP & LOR & CGPA & RESEARCH & RANK\\\\\n",
       "\\hline\n",
       "\t 1    & 337  & 118  & 4    & 4.5  & 4.5  & 9.65 & 1    & A   \\\\\n",
       "\t 2    & 324  & 107  & 4    & 4.0  & 4.5  & 8.87 & 1    & B   \\\\\n",
       "\t 3    & 316  & 104  & 3    & 3.0  & 3.5  & 8.00 & 1    & B   \\\\\n",
       "\t 4    & 322  & 110  & 3    & 3.5  & 2.5  & 8.67 & 1    & B   \\\\\n",
       "\t 5    & 314  & 103  & 2    & 2.0  & 3.0  & 8.21 & 0    & B   \\\\\n",
       "\t 6    & 330  & 115  & 5    & 4.5  & 3.0  & 9.34 & 1    & A   \\\\\n",
       "\\end{tabular}\n"
      ],
      "text/markdown": [
       "\n",
       "| S_ID | GRE | TOFEL | UNIVERSITY_RATING | SOP | LOR | CGPA | RESEARCH | RANK |\n",
       "|---|---|---|---|---|---|---|---|---|\n",
       "| 1    | 337  | 118  | 4    | 4.5  | 4.5  | 9.65 | 1    | A    |\n",
       "| 2    | 324  | 107  | 4    | 4.0  | 4.5  | 8.87 | 1    | B    |\n",
       "| 3    | 316  | 104  | 3    | 3.0  | 3.5  | 8.00 | 1    | B    |\n",
       "| 4    | 322  | 110  | 3    | 3.5  | 2.5  | 8.67 | 1    | B    |\n",
       "| 5    | 314  | 103  | 2    | 2.0  | 3.0  | 8.21 | 0    | B    |\n",
       "| 6    | 330  | 115  | 5    | 4.5  | 3.0  | 9.34 | 1    | A    |\n",
       "\n"
      ],
      "text/plain": [
       "  S_ID GRE TOFEL UNIVERSITY_RATING SOP LOR CGPA RESEARCH RANK\n",
       "1 1    337 118   4                 4.5 4.5 9.65 1        A   \n",
       "2 2    324 107   4                 4.0 4.5 8.87 1        B   \n",
       "3 3    316 104   3                 3.0 3.5 8.00 1        B   \n",
       "4 4    322 110   3                 3.5 2.5 8.67 1        B   \n",
       "5 5    314 103   2                 2.0 3.0 8.21 0        B   \n",
       "6 6    330 115   5                 4.5 3.0 9.34 1        A   "
      ]
     },
     "metadata": {},
     "output_type": "display_data"
    }
   ],
   "source": [
    "head(df)"
   ]
  },
  {
   "cell_type": "code",
   "execution_count": 4,
   "metadata": {
    "ExecuteTime": {
     "end_time": "2020-10-21T00:19:15.058343Z",
     "start_time": "2020-10-21T00:19:14.996Z"
    }
   },
   "outputs": [],
   "source": [
    "df$UNIVERSITY_RATING <- as.factor(df$UNIVERSITY_RATING)"
   ]
  },
  {
   "cell_type": "code",
   "execution_count": 5,
   "metadata": {
    "ExecuteTime": {
     "end_time": "2020-10-21T00:19:57.662346Z",
     "start_time": "2020-10-21T00:19:57.606Z"
    }
   },
   "outputs": [],
   "source": [
    "df$S_ID <- NULL"
   ]
  },
  {
   "cell_type": "code",
   "execution_count": 6,
   "metadata": {
    "ExecuteTime": {
     "end_time": "2020-10-21T00:20:03.693473Z",
     "start_time": "2020-10-21T00:20:03.619Z"
    }
   },
   "outputs": [
    {
     "data": {
      "text/html": [
       "<table>\n",
       "<thead><tr><th scope=col>GRE</th><th scope=col>TOFEL</th><th scope=col>UNIVERSITY_RATING</th><th scope=col>SOP</th><th scope=col>LOR</th><th scope=col>CGPA</th><th scope=col>RESEARCH</th><th scope=col>RANK</th></tr></thead>\n",
       "<tbody>\n",
       "\t<tr><td>337 </td><td>118 </td><td>4   </td><td>4.5 </td><td>4.5 </td><td>9.65</td><td>1   </td><td>A   </td></tr>\n",
       "\t<tr><td>324 </td><td>107 </td><td>4   </td><td>4.0 </td><td>4.5 </td><td>8.87</td><td>1   </td><td>B   </td></tr>\n",
       "\t<tr><td>316 </td><td>104 </td><td>3   </td><td>3.0 </td><td>3.5 </td><td>8.00</td><td>1   </td><td>B   </td></tr>\n",
       "\t<tr><td>322 </td><td>110 </td><td>3   </td><td>3.5 </td><td>2.5 </td><td>8.67</td><td>1   </td><td>B   </td></tr>\n",
       "\t<tr><td>314 </td><td>103 </td><td>2   </td><td>2.0 </td><td>3.0 </td><td>8.21</td><td>0   </td><td>B   </td></tr>\n",
       "\t<tr><td>330 </td><td>115 </td><td>5   </td><td>4.5 </td><td>3.0 </td><td>9.34</td><td>1   </td><td>A   </td></tr>\n",
       "</tbody>\n",
       "</table>\n"
      ],
      "text/latex": [
       "\\begin{tabular}{r|llllllll}\n",
       " GRE & TOFEL & UNIVERSITY\\_RATING & SOP & LOR & CGPA & RESEARCH & RANK\\\\\n",
       "\\hline\n",
       "\t 337  & 118  & 4    & 4.5  & 4.5  & 9.65 & 1    & A   \\\\\n",
       "\t 324  & 107  & 4    & 4.0  & 4.5  & 8.87 & 1    & B   \\\\\n",
       "\t 316  & 104  & 3    & 3.0  & 3.5  & 8.00 & 1    & B   \\\\\n",
       "\t 322  & 110  & 3    & 3.5  & 2.5  & 8.67 & 1    & B   \\\\\n",
       "\t 314  & 103  & 2    & 2.0  & 3.0  & 8.21 & 0    & B   \\\\\n",
       "\t 330  & 115  & 5    & 4.5  & 3.0  & 9.34 & 1    & A   \\\\\n",
       "\\end{tabular}\n"
      ],
      "text/markdown": [
       "\n",
       "| GRE | TOFEL | UNIVERSITY_RATING | SOP | LOR | CGPA | RESEARCH | RANK |\n",
       "|---|---|---|---|---|---|---|---|\n",
       "| 337  | 118  | 4    | 4.5  | 4.5  | 9.65 | 1    | A    |\n",
       "| 324  | 107  | 4    | 4.0  | 4.5  | 8.87 | 1    | B    |\n",
       "| 316  | 104  | 3    | 3.0  | 3.5  | 8.00 | 1    | B    |\n",
       "| 322  | 110  | 3    | 3.5  | 2.5  | 8.67 | 1    | B    |\n",
       "| 314  | 103  | 2    | 2.0  | 3.0  | 8.21 | 0    | B    |\n",
       "| 330  | 115  | 5    | 4.5  | 3.0  | 9.34 | 1    | A    |\n",
       "\n"
      ],
      "text/plain": [
       "  GRE TOFEL UNIVERSITY_RATING SOP LOR CGPA RESEARCH RANK\n",
       "1 337 118   4                 4.5 4.5 9.65 1        A   \n",
       "2 324 107   4                 4.0 4.5 8.87 1        B   \n",
       "3 316 104   3                 3.0 3.5 8.00 1        B   \n",
       "4 322 110   3                 3.5 2.5 8.67 1        B   \n",
       "5 314 103   2                 2.0 3.0 8.21 0        B   \n",
       "6 330 115   5                 4.5 3.0 9.34 1        A   "
      ]
     },
     "metadata": {},
     "output_type": "display_data"
    }
   ],
   "source": [
    "head(df)"
   ]
  },
  {
   "cell_type": "code",
   "execution_count": 7,
   "metadata": {
    "ExecuteTime": {
     "end_time": "2020-10-21T00:20:14.208535Z",
     "start_time": "2020-10-21T00:20:14.144Z"
    }
   },
   "outputs": [
    {
     "data": {
      "text/plain": [
       "      GRE            TOFEL       UNIVERSITY_RATING      SOP     \n",
       " Min.   :290.0   Min.   : 92.0   1: 26             Min.   :1.0  \n",
       " 1st Qu.:308.0   1st Qu.:103.0   2:107             1st Qu.:2.5  \n",
       " Median :317.0   Median :107.0   3:133             Median :3.5  \n",
       " Mean   :316.8   Mean   :107.4   4: 74             Mean   :3.4  \n",
       " 3rd Qu.:325.0   3rd Qu.:112.0   5: 60             3rd Qu.:4.0  \n",
       " Max.   :340.0   Max.   :120.0                     Max.   :5.0  \n",
       "      LOR             CGPA          RESEARCH      RANK   \n",
       " Min.   :1.000   Min.   :6.800   Min.   :0.0000   A: 89  \n",
       " 1st Qu.:3.000   1st Qu.:8.170   1st Qu.:0.0000   B:278  \n",
       " Median :3.500   Median :8.610   Median :1.0000   C: 33  \n",
       " Mean   :3.453   Mean   :8.599   Mean   :0.5475          \n",
       " 3rd Qu.:4.000   3rd Qu.:9.062   3rd Qu.:1.0000          \n",
       " Max.   :5.000   Max.   :9.920   Max.   :1.0000          "
      ]
     },
     "metadata": {},
     "output_type": "display_data"
    }
   ],
   "source": [
    "summary(df)"
   ]
  },
  {
   "cell_type": "code",
   "execution_count": 8,
   "metadata": {
    "ExecuteTime": {
     "end_time": "2020-10-21T00:21:22.325704Z",
     "start_time": "2020-10-21T00:21:22.242Z"
    }
   },
   "outputs": [],
   "source": [
    "set.seed(18)\n",
    "trainIndex <- createDataPartition(df$RANK, p = .7, list = FALSE)"
   ]
  },
  {
   "cell_type": "code",
   "execution_count": 9,
   "metadata": {
    "ExecuteTime": {
     "end_time": "2020-10-21T00:21:37.605355Z",
     "start_time": "2020-10-21T00:21:37.539Z"
    }
   },
   "outputs": [],
   "source": [
    "dfTrain <- df[ trainIndex,]\n",
    "dfTest  <- df[-trainIndex,]"
   ]
  },
  {
   "cell_type": "code",
   "execution_count": 10,
   "metadata": {
    "ExecuteTime": {
     "end_time": "2020-10-21T00:23:39.045819Z",
     "start_time": "2020-10-21T00:23:36.011Z"
    }
   },
   "outputs": [
    {
     "data": {
      "text/plain": [
       "Single C5.0 Tree \n",
       "\n",
       "282 samples\n",
       "  7 predictor\n",
       "  3 classes: 'A', 'B', 'C' \n",
       "\n",
       "No pre-processing\n",
       "Resampling: Cross-Validated (10 fold, repeated 1 times) \n",
       "Summary of sample sizes: 255, 253, 253, 253, 255, 253, ... \n",
       "Resampling results:\n",
       "\n",
       "  Accuracy   Kappa    \n",
       "  0.8616858  0.6880646\n"
      ]
     },
     "metadata": {},
     "output_type": "display_data"
    },
    {
     "data": {
      "text/plain": [
       "Confusion Matrix and Statistics\n",
       "\n",
       "          Reference\n",
       "Prediction  A  B  C\n",
       "         A 22  2  0\n",
       "         B  4 73  8\n",
       "         C  0  8  1\n",
       "\n",
       "Overall Statistics\n",
       "                                          \n",
       "               Accuracy : 0.8136          \n",
       "                 95% CI : (0.7314, 0.8793)\n",
       "    No Information Rate : 0.7034          \n",
       "    P-Value [Acc > NIR] : 0.004491        \n",
       "                                          \n",
       "                  Kappa : 0.5788          \n",
       "                                          \n",
       " Mcnemar's Test P-Value : NA              \n",
       "\n",
       "Statistics by Class:\n",
       "\n",
       "                     Class: A Class: B Class: C\n",
       "Sensitivity            0.8462   0.8795 0.111111\n",
       "Specificity            0.9783   0.6571 0.926606\n",
       "Pos Pred Value         0.9167   0.8588 0.111111\n",
       "Neg Pred Value         0.9574   0.6970 0.926606\n",
       "Prevalence             0.2203   0.7034 0.076271\n",
       "Detection Rate         0.1864   0.6186 0.008475\n",
       "Detection Prevalence   0.2034   0.7203 0.076271\n",
       "Balanced Accuracy      0.9122   0.7683 0.518858"
      ]
     },
     "metadata": {},
     "output_type": "display_data"
    },
    {
     "data": {
      "text/html": [
       "<table>\n",
       "<thead><tr><th></th><th scope=col>A</th><th scope=col>B</th><th scope=col>C</th></tr></thead>\n",
       "<tbody>\n",
       "\t<tr><th scope=row>4</th><td>0.01670158 </td><td>0.92586264 </td><td>0.057435787</td></tr>\n",
       "\t<tr><th scope=row>6</th><td>0.97842790 </td><td>0.01920804 </td><td>0.002364066</td></tr>\n",
       "\t<tr><th scope=row>7</th><td>0.01670158 </td><td>0.92586264 </td><td>0.057435787</td></tr>\n",
       "\t<tr><th scope=row>8</th><td>0.01670158 </td><td>0.92586264 </td><td>0.057435787</td></tr>\n",
       "\t<tr><th scope=row>14</th><td>0.01670158 </td><td>0.92586264 </td><td>0.057435787</td></tr>\n",
       "\t<tr><th scope=row>16</th><td>0.01670158 </td><td>0.92586264 </td><td>0.057435787</td></tr>\n",
       "</tbody>\n",
       "</table>\n"
      ],
      "text/latex": [
       "\\begin{tabular}{r|lll}\n",
       "  & A & B & C\\\\\n",
       "\\hline\n",
       "\t4 & 0.01670158  & 0.92586264  & 0.057435787\\\\\n",
       "\t6 & 0.97842790  & 0.01920804  & 0.002364066\\\\\n",
       "\t7 & 0.01670158  & 0.92586264  & 0.057435787\\\\\n",
       "\t8 & 0.01670158  & 0.92586264  & 0.057435787\\\\\n",
       "\t14 & 0.01670158  & 0.92586264  & 0.057435787\\\\\n",
       "\t16 & 0.01670158  & 0.92586264  & 0.057435787\\\\\n",
       "\\end{tabular}\n"
      ],
      "text/markdown": [
       "\n",
       "| <!--/--> | A | B | C |\n",
       "|---|---|---|---|\n",
       "| 4 | 0.01670158  | 0.92586264  | 0.057435787 |\n",
       "| 6 | 0.97842790  | 0.01920804  | 0.002364066 |\n",
       "| 7 | 0.01670158  | 0.92586264  | 0.057435787 |\n",
       "| 8 | 0.01670158  | 0.92586264  | 0.057435787 |\n",
       "| 14 | 0.01670158  | 0.92586264  | 0.057435787 |\n",
       "| 16 | 0.01670158  | 0.92586264  | 0.057435787 |\n",
       "\n"
      ],
      "text/plain": [
       "   A          B          C          \n",
       "4  0.01670158 0.92586264 0.057435787\n",
       "6  0.97842790 0.01920804 0.002364066\n",
       "7  0.01670158 0.92586264 0.057435787\n",
       "8  0.01670158 0.92586264 0.057435787\n",
       "14 0.01670158 0.92586264 0.057435787\n",
       "16 0.01670158 0.92586264 0.057435787"
      ]
     },
     "metadata": {},
     "output_type": "display_data"
    },
    {
     "data": {
      "text/plain": [
       "C5.0Tree variable importance\n",
       "\n",
       "                   Overall\n",
       "CGPA                100.00\n",
       "GRE                  87.59\n",
       "UNIVERSITY_RATING5   26.24\n",
       "RESEARCH              8.16\n",
       "UNIVERSITY_RATING3    7.09\n",
       "LOR                   4.26\n",
       "UNIVERSITY_RATING2    0.00\n",
       "TOFEL                 0.00\n",
       "UNIVERSITY_RATING4    0.00\n",
       "SOP                   0.00"
      ]
     },
     "metadata": {},
     "output_type": "display_data"
    },
    {
     "data": {
      "image/png": "[encoded data removed]",
      "text/plain": [
       "plot without title"
      ]
     },
     "metadata": {},
     "output_type": "display_data"
    }
   ],
   "source": [
    "set.seed(10)\n",
    "\n",
    "# Definindo Parâmetros do Cross Validation\n",
    "cv <- trainControl(method = \"repeatedcv\", number = 10, savePredictions = TRUE, classProbs=TRUE)\n",
    "\n",
    "# Treinando Modelo de Árvore Simples\n",
    "model_5.0 <- train(RANK~. , data = dfTrain, method = \"C5.0Tree\", trControl = cv)\n",
    "\n",
    "model_5.0\n",
    "\n",
    "# Montando a Matriz de Confusão\n",
    "pred_5.0 <- predict(model_5.0 ,newdata=dfTest)\n",
    "confusionMatrix(data=pred_5.0, dfTest$RANK)\n",
    "\n",
    "# Fazendo Scoring do Modelo\n",
    "classProbs_5.0 <- predict(model_5.0, newdata=dfTest, type=\"prob\")\n",
    "head(classProbs_5.0)\n",
    "\n",
    "# Verificando Importância das Variáveis Preditoras\n",
    "imp <- varImp(model_5.0, scale=FALSE)\n",
    "imp\n",
    "plot(imp)"
   ]
  },
  {
   "cell_type": "code",
   "execution_count": 11,
   "metadata": {
    "ExecuteTime": {
     "end_time": "2020-10-21T00:28:37.297796Z",
     "start_time": "2020-10-21T00:24:04.333Z"
    },
    "scrolled": false
   },
   "outputs": [
    {
     "data": {
      "text/plain": [
       "eXtreme Gradient Boosting \n",
       "\n",
       "282 samples\n",
       "  7 predictor\n",
       "  3 classes: 'A', 'B', 'C' \n",
       "\n",
       "No pre-processing\n",
       "Resampling: Cross-Validated (10 fold, repeated 1 times) \n",
       "Summary of sample sizes: 255, 253, 254, 254, 254, 254, ... \n",
       "Resampling results across tuning parameters:\n",
       "\n",
       "  eta  max_depth  colsample_bytree  subsample  nrounds  Accuracy   Kappa    \n",
       "  0.3  1          0.6               0.50        50      0.8756933  0.7255238\n",
       "  0.3  1          0.6               0.50       100      0.8721310  0.7159033\n",
       "  0.3  1          0.6               0.50       150      0.8654899  0.7001020\n",
       "  0.3  1          0.6               0.75        50      0.8759487  0.7262851\n",
       "  0.3  1          0.6               0.75       100      0.8795202  0.7326448\n",
       "  0.3  1          0.6               0.75       150      0.8654808  0.7064379\n",
       "  0.3  1          0.6               1.00        50      0.9008347  0.7751108\n",
       "  0.3  1          0.6               1.00       100      0.8902436  0.7539120\n",
       "  0.3  1          0.6               1.00       150      0.8866721  0.7433675\n",
       "  0.3  1          0.8               0.50        50      0.8864167  0.7477912\n",
       "  0.3  1          0.8               0.50       100      0.8753147  0.7303923\n",
       "  0.3  1          0.8               0.50       150      0.8686827  0.7100839\n",
       "  0.3  1          0.8               0.75        50      0.8829684  0.7411824\n",
       "  0.3  1          0.8               0.75       100      0.8866721  0.7457524\n",
       "  0.3  1          0.8               0.75       150      0.8690613  0.7094055\n",
       "  0.3  1          0.8               1.00        50      0.8971310  0.7685400\n",
       "  0.3  1          0.8               1.00       100      0.8866721  0.7433675\n",
       "  0.3  1          0.8               1.00       150      0.8866721  0.7433675\n",
       "  0.3  2          0.6               0.50        50      0.8934364  0.7608398\n",
       "  0.3  2          0.6               0.50       100      0.8759579  0.7248340\n",
       "  0.3  2          0.6               0.50       150      0.8686827  0.7086786\n",
       "  0.3  2          0.6               0.75        50      0.8864167  0.7472855\n",
       "  0.3  2          0.6               0.75       100      0.8902436  0.7542969\n",
       "  0.3  2          0.6               0.75       150      0.8755702  0.7251822\n",
       "  0.3  2          0.6               1.00        50      0.8971310  0.7680129\n",
       "  0.3  2          0.6               1.00       100      0.8899881  0.7529927\n",
       "  0.3  2          0.6               1.00       150      0.8898650  0.7550423\n",
       "  0.3  2          0.8               0.50        50      0.8828453  0.7436258\n",
       "  0.3  2          0.8               0.50       100      0.8755793  0.7270308\n",
       "  0.3  2          0.8               0.50       150      0.8758256  0.7249271\n",
       "  0.3  2          0.8               0.75        50      0.8830916  0.7391885\n",
       "  0.3  2          0.8               0.75       100      0.8864167  0.7489875\n",
       "  0.3  2          0.8               0.75       150      0.8825899  0.7413002\n",
       "  0.3  2          0.8               1.00        50      0.8936827  0.7624386\n",
       "  0.3  2          0.8               1.00       100      0.8936827  0.7630751\n",
       "  0.3  2          0.8               1.00       150      0.8899881  0.7558285\n",
       "  0.3  3          0.6               0.50        50      0.8787539  0.7334525\n",
       "  0.3  3          0.6               0.50       100      0.8860290  0.7469192\n",
       "  0.3  3          0.6               0.50       150      0.8754470  0.7221450\n",
       "  0.3  3          0.6               0.75        50      0.8864167  0.7482694\n",
       "  0.3  3          0.6               0.75       100      0.8829776  0.7380885\n",
       "  0.3  3          0.6               0.75       150      0.8758256  0.7231582\n",
       "  0.3  3          0.6               1.00        50      0.8935687  0.7643033\n",
       "  0.3  3          0.6               1.00       100      0.8899973  0.7582359\n",
       "  0.3  3          0.6               1.00       150      0.8862936  0.7489470\n",
       "  0.3  3          0.8               0.50        50      0.8611613  0.6981573\n",
       "  0.3  3          0.8               0.50       100      0.8684364  0.7104163\n",
       "  0.3  3          0.8               0.50       150      0.8614167  0.6936179\n",
       "  0.3  3          0.8               0.75        50      0.8971401  0.7710943\n",
       "  0.3  3          0.8               0.75       100      0.8899973  0.7541792\n",
       "  0.3  3          0.8               0.75       150      0.8827221  0.7385205\n",
       "  0.3  3          0.8               1.00        50      0.9007115  0.7803906\n",
       "  0.3  3          0.8               1.00       100      0.9007115  0.7803906\n",
       "  0.3  3          0.8               1.00       150      0.8934364  0.7649055\n",
       "  0.4  1          0.6               0.50        50      0.8933041  0.7630830\n",
       "  0.4  1          0.6               0.50       100      0.8865490  0.7451879\n",
       "  0.4  1          0.6               0.50       150      0.8755702  0.7201732\n",
       "  0.4  1          0.6               0.75        50      0.8792647  0.7349088\n",
       "  0.4  1          0.6               0.75       100      0.8723773  0.7178817\n",
       "  0.4  1          0.6               0.75       150      0.8652344  0.7007044\n",
       "  0.4  1          0.6               1.00        50      0.8971310  0.7685400\n",
       "  0.4  1          0.6               1.00       100      0.8902436  0.7511856\n",
       "  0.4  1          0.6               1.00       150      0.8762042  0.7245740\n",
       "  0.4  1          0.8               0.50        50      0.8758256  0.7257383\n",
       "  0.4  1          0.8               0.50       100      0.8578362  0.6906160\n",
       "  0.4  1          0.8               0.50       150      0.8543879  0.6792972\n",
       "  0.4  1          0.8               0.75        50      0.8864167  0.7437270\n",
       "  0.4  1          0.8               0.75       100      0.8831007  0.7372274\n",
       "  0.4  1          0.8               0.75       150      0.8759579  0.7234540\n",
       "  0.4  1          0.8               1.00        50      0.8901204  0.7556625\n",
       "  0.4  1          0.8               1.00       100      0.8831007  0.7369423\n",
       "  0.4  1          0.8               1.00       150      0.8762042  0.7231810\n",
       "  0.4  2          0.6               0.50        50      0.8790184  0.7330023\n",
       "  0.4  2          0.6               0.50       100      0.8760810  0.7283388\n",
       "  0.4  2          0.6               0.50       150      0.8685504  0.7119563\n",
       "  0.4  2          0.6               0.75        50      0.8686736  0.7121817\n",
       "  0.4  2          0.6               0.75       100      0.8722633  0.7174838\n",
       "  0.4  2          0.6               0.75       150      0.8792739  0.7293907\n",
       "  0.4  2          0.6               1.00        50      0.8933041  0.7564842\n",
       "  0.4  2          0.6               1.00       100      0.8933133  0.7618684\n",
       "  0.4  2          0.6               1.00       150      0.8933133  0.7618684\n",
       "  0.4  2          0.8               0.50        50      0.8754470  0.7236741\n",
       "  0.4  2          0.8               0.50       100      0.8577039  0.6889143\n",
       "  0.4  2          0.8               0.50       150      0.8614076  0.6945352\n",
       "  0.4  2          0.8               0.75        50      0.8758256  0.7256773\n",
       "  0.4  2          0.8               0.75       100      0.8758256  0.7260661\n",
       "  0.4  2          0.8               0.75       150      0.8754379  0.7254741\n",
       "  0.4  2          0.8               1.00        50      0.9041507  0.7852042\n",
       "  0.4  2          0.8               1.00       100      0.8898559  0.7546661\n",
       "  0.4  2          0.8               1.00       150      0.8971401  0.7710280\n",
       "  0.4  3          0.6               0.50        50      0.8788953  0.7300793\n",
       "  0.4  3          0.6               0.50       100      0.8651113  0.7002313\n",
       "  0.4  3          0.6               0.50       150      0.8688059  0.7084930\n",
       "  0.4  3          0.6               0.75        50      0.8865490  0.7481865\n",
       "  0.4  3          0.6               0.75       100      0.8757024  0.7226115\n",
       "  0.4  3          0.6               0.75       150      0.8757024  0.7224298\n",
       "  0.4  3          0.6               1.00        50      0.8971401  0.7702364\n",
       "  0.4  3          0.6               1.00       100      0.9042830  0.7879977\n",
       "  0.4  3          0.6               1.00       150      0.9005793  0.7783581\n",
       "  0.4  3          0.8               0.50        50      0.8824667  0.7351862\n",
       "  0.4  3          0.8               0.50       100      0.8753238  0.7198839\n",
       "  0.4  3          0.8               0.50       150      0.8754561  0.7177671\n",
       "  0.4  3          0.8               0.75        50      0.8829776  0.7397435\n",
       "  0.4  3          0.8               0.75       100      0.8755793  0.7221353\n",
       "  0.4  3          0.8               0.75       150      0.8685596  0.7014623\n",
       "  0.4  3          0.8               1.00        50      0.8934364  0.7673723\n",
       "  0.4  3          0.8               1.00       100      0.8934364  0.7646765\n",
       "  0.4  3          0.8               1.00       150      0.8898650  0.7582433\n",
       "\n",
       "Tuning parameter 'gamma' was held constant at a value of 0\n",
       "Tuning\n",
       " parameter 'min_child_weight' was held constant at a value of 1\n",
       "Accuracy was used to select the optimal model using the largest value.\n",
       "The final values used for the model were nrounds = 100, max_depth = 3, eta\n",
       " = 0.4, gamma = 0, colsample_bytree = 0.6, min_child_weight = 1 and subsample\n",
       " = 1."
      ]
     },
     "metadata": {},
     "output_type": "display_data"
    },
    {
     "data": {
      "text/plain": [
       "Confusion Matrix and Statistics\n",
       "\n",
       "          Reference\n",
       "Prediction  A  B  C\n",
       "         A 25  3  0\n",
       "         B  1 74  5\n",
       "         C  0  6  4\n",
       "\n",
       "Overall Statistics\n",
       "                                         \n",
       "               Accuracy : 0.8729         \n",
       "                 95% CI : (0.799, 0.9271)\n",
       "    No Information Rate : 0.7034         \n",
       "    P-Value [Acc > NIR] : 1.192e-05      \n",
       "                                         \n",
       "                  Kappa : 0.7263         \n",
       "                                         \n",
       " Mcnemar's Test P-Value : NA             \n",
       "\n",
       "Statistics by Class:\n",
       "\n",
       "                     Class: A Class: B Class: C\n",
       "Sensitivity            0.9615   0.8916  0.44444\n",
       "Specificity            0.9674   0.8286  0.94495\n",
       "Pos Pred Value         0.8929   0.9250  0.40000\n",
       "Neg Pred Value         0.9889   0.7632  0.95370\n",
       "Prevalence             0.2203   0.7034  0.07627\n",
       "Detection Rate         0.2119   0.6271  0.03390\n",
       "Detection Prevalence   0.2373   0.6780  0.08475\n",
       "Balanced Accuracy      0.9645   0.8601  0.69470"
      ]
     },
     "metadata": {},
     "output_type": "display_data"
    },
    {
     "data": {
      "text/html": [
       "<table>\n",
       "<thead><tr><th scope=col>A</th><th scope=col>B</th><th scope=col>C</th></tr></thead>\n",
       "<tbody>\n",
       "\t<tr><td>7.233102e-03</td><td>0.985317767 </td><td>0.0074491813</td></tr>\n",
       "\t<tr><td>9.993536e-01</td><td>0.000472045 </td><td>0.0001744235</td></tr>\n",
       "\t<tr><td>3.922940e-03</td><td>0.994002402 </td><td>0.0020746414</td></tr>\n",
       "\t<tr><td>1.173748e-04</td><td>0.070231386 </td><td>0.9296512604</td></tr>\n",
       "\t<tr><td>1.286308e-03</td><td>0.990803242 </td><td>0.0079104798</td></tr>\n",
       "\t<tr><td>7.198529e-05</td><td>0.950949371 </td><td>0.0489786118</td></tr>\n",
       "</tbody>\n",
       "</table>\n"
      ],
      "text/latex": [
       "\\begin{tabular}{r|lll}\n",
       " A & B & C\\\\\n",
       "\\hline\n",
       "\t 7.233102e-03 & 0.985317767  & 0.0074491813\\\\\n",
       "\t 9.993536e-01 & 0.000472045  & 0.0001744235\\\\\n",
       "\t 3.922940e-03 & 0.994002402  & 0.0020746414\\\\\n",
       "\t 1.173748e-04 & 0.070231386  & 0.9296512604\\\\\n",
       "\t 1.286308e-03 & 0.990803242  & 0.0079104798\\\\\n",
       "\t 7.198529e-05 & 0.950949371  & 0.0489786118\\\\\n",
       "\\end{tabular}\n"
      ],
      "text/markdown": [
       "\n",
       "| A | B | C |\n",
       "|---|---|---|\n",
       "| 7.233102e-03 | 0.985317767  | 0.0074491813 |\n",
       "| 9.993536e-01 | 0.000472045  | 0.0001744235 |\n",
       "| 3.922940e-03 | 0.994002402  | 0.0020746414 |\n",
       "| 1.173748e-04 | 0.070231386  | 0.9296512604 |\n",
       "| 1.286308e-03 | 0.990803242  | 0.0079104798 |\n",
       "| 7.198529e-05 | 0.950949371  | 0.0489786118 |\n",
       "\n"
      ],
      "text/plain": [
       "  A            B           C           \n",
       "1 7.233102e-03 0.985317767 0.0074491813\n",
       "2 9.993536e-01 0.000472045 0.0001744235\n",
       "3 3.922940e-03 0.994002402 0.0020746414\n",
       "4 1.173748e-04 0.070231386 0.9296512604\n",
       "5 1.286308e-03 0.990803242 0.0079104798\n",
       "6 7.198529e-05 0.950949371 0.0489786118"
      ]
     },
     "metadata": {},
     "output_type": "display_data"
    },
    {
     "data": {
      "text/plain": [
       "C5.0Tree variable importance\n",
       "\n",
       "                   Overall\n",
       "CGPA                100.00\n",
       "GRE                  87.59\n",
       "UNIVERSITY_RATING5   26.24\n",
       "RESEARCH              8.16\n",
       "UNIVERSITY_RATING3    7.09\n",
       "LOR                   4.26\n",
       "SOP                   0.00\n",
       "UNIVERSITY_RATING4    0.00\n",
       "UNIVERSITY_RATING2    0.00\n",
       "TOFEL                 0.00"
      ]
     },
     "metadata": {},
     "output_type": "display_data"
    },
    {
     "data": {
      "image/png": "[encoded data removed]",
      "text/plain": [
       "plot without title"
      ]
     },
     "metadata": {},
     "output_type": "display_data"
    }
   ],
   "source": [
    "set.seed(143)\n",
    "\n",
    "# Definindo Parâmetros do Cross Validation\n",
    "cv <- trainControl(method = \"repeatedcv\", number = 10, savePredictions = TRUE, classProbs=TRUE)\n",
    "\n",
    "# Treinando Modelo com Boosting (XgBoost)\n",
    "model_boosting <- train(RANK~. , data = dfTrain, method = \"xgbTree\",trControl = cv)\n",
    "\n",
    "model_boosting\n",
    "\n",
    "# Gerando Matriz de Confusão\n",
    "pred_boosting <- predict(model_boosting ,newdata=dfTest)\n",
    "confusionMatrix(data=pred_boosting, dfTest$RANK)\n",
    "\n",
    "# Fazendo Scoring do Modelo\n",
    "classProbs_boosting <- predict(model_boosting, newdata=dfTest, type=\"prob\")\n",
    "head(classProbs_boosting)\n",
    "\n",
    "# Importância das Variáveis Preditoras\n",
    "imp <- varImp(model_5.0, scale=FALSE)\n",
    "imp\n",
    "plot(imp)"
   ]
  },
  {
   "cell_type": "code",
   "execution_count": 12,
   "metadata": {
    "ExecuteTime": {
     "end_time": "2020-10-21T00:34:24.523028Z",
     "start_time": "2020-10-21T00:34:19.176Z"
    },
    "scrolled": false
   },
   "outputs": [
    {
     "data": {
      "text/plain": [
       "Bagged CART \n",
       "\n",
       "282 samples\n",
       "  7 predictor\n",
       "  3 classes: 'A', 'B', 'C' \n",
       "\n",
       "No pre-processing\n",
       "Resampling: Cross-Validated (10 fold, repeated 1 times) \n",
       "Summary of sample sizes: 252, 254, 255, 253, 255, 253, ... \n",
       "Resampling results:\n",
       "\n",
       "  Accuracy   Kappa    \n",
       "  0.8713474  0.7116596\n"
      ]
     },
     "metadata": {},
     "output_type": "display_data"
    },
    {
     "data": {
      "text/plain": [
       "Confusion Matrix and Statistics\n",
       "\n",
       "          Reference\n",
       "Prediction  A  B  C\n",
       "         A 24  3  0\n",
       "         B  2 74  8\n",
       "         C  0  6  1\n",
       "\n",
       "Overall Statistics\n",
       "                                        \n",
       "               Accuracy : 0.839         \n",
       "                 95% CI : (0.76, 0.9002)\n",
       "    No Information Rate : 0.7034        \n",
       "    P-Value [Acc > NIR] : 0.0005063     \n",
       "                                        \n",
       "                  Kappa : 0.6376        \n",
       "                                        \n",
       " Mcnemar's Test P-Value : NA            \n",
       "\n",
       "Statistics by Class:\n",
       "\n",
       "                     Class: A Class: B Class: C\n",
       "Sensitivity            0.9231   0.8916 0.111111\n",
       "Specificity            0.9674   0.7143 0.944954\n",
       "Pos Pred Value         0.8889   0.8810 0.142857\n",
       "Neg Pred Value         0.9780   0.7353 0.927928\n",
       "Prevalence             0.2203   0.7034 0.076271\n",
       "Detection Rate         0.2034   0.6271 0.008475\n",
       "Detection Prevalence   0.2288   0.7119 0.059322\n",
       "Balanced Accuracy      0.9452   0.8029 0.528033"
      ]
     },
     "metadata": {},
     "output_type": "display_data"
    },
    {
     "data": {
      "text/html": [
       "<table>\n",
       "<thead><tr><th scope=col>A</th><th scope=col>B</th><th scope=col>C</th></tr></thead>\n",
       "<tbody>\n",
       "\t<tr><td>0.00</td><td>1.00</td><td>0.00</td></tr>\n",
       "\t<tr><td>0.96</td><td>0.04</td><td>0.00</td></tr>\n",
       "\t<tr><td>0.00</td><td>0.96</td><td>0.04</td></tr>\n",
       "\t<tr><td>0.00</td><td>0.44</td><td>0.56</td></tr>\n",
       "\t<tr><td>0.00</td><td>0.92</td><td>0.08</td></tr>\n",
       "\t<tr><td>0.00</td><td>0.96</td><td>0.04</td></tr>\n",
       "</tbody>\n",
       "</table>\n"
      ],
      "text/latex": [
       "\\begin{tabular}{r|lll}\n",
       " A & B & C\\\\\n",
       "\\hline\n",
       "\t 0.00 & 1.00 & 0.00\\\\\n",
       "\t 0.96 & 0.04 & 0.00\\\\\n",
       "\t 0.00 & 0.96 & 0.04\\\\\n",
       "\t 0.00 & 0.44 & 0.56\\\\\n",
       "\t 0.00 & 0.92 & 0.08\\\\\n",
       "\t 0.00 & 0.96 & 0.04\\\\\n",
       "\\end{tabular}\n"
      ],
      "text/markdown": [
       "\n",
       "| A | B | C |\n",
       "|---|---|---|\n",
       "| 0.00 | 1.00 | 0.00 |\n",
       "| 0.96 | 0.04 | 0.00 |\n",
       "| 0.00 | 0.96 | 0.04 |\n",
       "| 0.00 | 0.44 | 0.56 |\n",
       "| 0.00 | 0.92 | 0.08 |\n",
       "| 0.00 | 0.96 | 0.04 |\n",
       "\n"
      ],
      "text/plain": [
       "  A    B    C   \n",
       "1 0.00 1.00 0.00\n",
       "2 0.96 0.04 0.00\n",
       "3 0.00 0.96 0.04\n",
       "4 0.00 0.44 0.56\n",
       "5 0.00 0.92 0.08\n",
       "6 0.00 0.96 0.04"
      ]
     },
     "metadata": {},
     "output_type": "display_data"
    },
    {
     "data": {
      "text/plain": [
       "C5.0Tree variable importance\n",
       "\n",
       "                   Overall\n",
       "CGPA                100.00\n",
       "GRE                  87.59\n",
       "UNIVERSITY_RATING5   26.24\n",
       "RESEARCH              8.16\n",
       "UNIVERSITY_RATING3    7.09\n",
       "LOR                   4.26\n",
       "UNIVERSITY_RATING4    0.00\n",
       "SOP                   0.00\n",
       "UNIVERSITY_RATING2    0.00\n",
       "TOFEL                 0.00"
      ]
     },
     "metadata": {},
     "output_type": "display_data"
    },
    {
     "data": {
      "image/png": "[encoded data removed]",
      "text/plain": [
       "plot without title"
      ]
     },
     "metadata": {},
     "output_type": "display_data"
    }
   ],
   "source": [
    "set.seed(186)\n",
    "\n",
    "# Definindo Parâmetros do Cross Validation\n",
    "cv <- trainControl(method = \"repeatedcv\", number = 10, savePredictions = TRUE, classProbs=TRUE)\n",
    "\n",
    "# Treindo Modelo com Bagging\n",
    "model_bagging <- train(RANK~. , data = dfTrain, method = \"treebag\",trControl = cv)\n",
    "\n",
    "model_bagging\n",
    "\n",
    "# Gerando Matriz de Confusão\n",
    "pred_bagging <- predict(model_bagging ,newdata=dfTest)\n",
    "confusionMatrix(data=pred_bagging, dfTest$RANK)\n",
    "\n",
    "# Fazendo Scoring do Modelo\n",
    "classProbs_bagging <- predict(model_bagging, newdata=dfTest, type=\"prob\")\n",
    "head(classProbs_bagging)\n",
    "\n",
    "# Importância das Variáveis Preditoras\n",
    "imp <- varImp(model_5.0, scale=FALSE)\n",
    "imp\n",
    "plot(imp)"
   ]
  },
  {
   "cell_type": "code",
   "execution_count": 13,
   "metadata": {
    "ExecuteTime": {
     "end_time": "2020-10-21T00:36:39.346921Z",
     "start_time": "2020-10-21T00:36:31.763Z"
    },
    "scrolled": false
   },
   "outputs": [
    {
     "data": {
      "text/plain": [
       "Random Forest \n",
       "\n",
       "282 samples\n",
       "  7 predictor\n",
       "  3 classes: 'A', 'B', 'C' \n",
       "\n",
       "No pre-processing\n",
       "Resampling: Cross-Validated (10 fold, repeated 1 times) \n",
       "Summary of sample sizes: 253, 254, 254, 255, 254, 254, ... \n",
       "Resampling results across tuning parameters:\n",
       "\n",
       "  mtry  Accuracy   Kappa    \n",
       "   2    0.9090285  0.7930574\n",
       "   6    0.8911622  0.7545299\n",
       "  10    0.8842574  0.7441145\n",
       "\n",
       "Accuracy was used to select the optimal model using the largest value.\n",
       "The final value used for the model was mtry = 2."
      ]
     },
     "metadata": {},
     "output_type": "display_data"
    },
    {
     "data": {
      "text/plain": [
       "Confusion Matrix and Statistics\n",
       "\n",
       "          Reference\n",
       "Prediction  A  B  C\n",
       "         A 25  2  0\n",
       "         B  1 79  8\n",
       "         C  0  2  1\n",
       "\n",
       "Overall Statistics\n",
       "                                       \n",
       "               Accuracy : 0.8898       \n",
       "                 95% CI : (0.819, 0.94)\n",
       "    No Information Rate : 0.7034       \n",
       "    P-Value [Acc > NIR] : 1.202e-06    \n",
       "                                       \n",
       "                  Kappa : 0.7396       \n",
       "                                       \n",
       " Mcnemar's Test P-Value : NA           \n",
       "\n",
       "Statistics by Class:\n",
       "\n",
       "                     Class: A Class: B Class: C\n",
       "Sensitivity            0.9615   0.9518 0.111111\n",
       "Specificity            0.9783   0.7429 0.981651\n",
       "Pos Pred Value         0.9259   0.8977 0.333333\n",
       "Neg Pred Value         0.9890   0.8667 0.930435\n",
       "Prevalence             0.2203   0.7034 0.076271\n",
       "Detection Rate         0.2119   0.6695 0.008475\n",
       "Detection Prevalence   0.2288   0.7458 0.025424\n",
       "Balanced Accuracy      0.9699   0.8473 0.546381"
      ]
     },
     "metadata": {},
     "output_type": "display_data"
    },
    {
     "data": {
      "text/html": [
       "<table>\n",
       "<thead><tr><th></th><th scope=col>A</th><th scope=col>B</th><th scope=col>C</th></tr></thead>\n",
       "<tbody>\n",
       "\t<tr><th scope=row>4</th><td>0.008</td><td>0.980</td><td>0.012</td></tr>\n",
       "\t<tr><th scope=row>6</th><td>0.964</td><td>0.036</td><td>0.000</td></tr>\n",
       "\t<tr><th scope=row>7</th><td>0.002</td><td>0.996</td><td>0.002</td></tr>\n",
       "\t<tr><th scope=row>8</th><td>0.000</td><td>0.672</td><td>0.328</td></tr>\n",
       "\t<tr><th scope=row>14</th><td>0.012</td><td>0.882</td><td>0.106</td></tr>\n",
       "\t<tr><th scope=row>16</th><td>0.000</td><td>0.986</td><td>0.014</td></tr>\n",
       "</tbody>\n",
       "</table>\n"
      ],
      "text/latex": [
       "\\begin{tabular}{r|lll}\n",
       "  & A & B & C\\\\\n",
       "\\hline\n",
       "\t4 & 0.008 & 0.980 & 0.012\\\\\n",
       "\t6 & 0.964 & 0.036 & 0.000\\\\\n",
       "\t7 & 0.002 & 0.996 & 0.002\\\\\n",
       "\t8 & 0.000 & 0.672 & 0.328\\\\\n",
       "\t14 & 0.012 & 0.882 & 0.106\\\\\n",
       "\t16 & 0.000 & 0.986 & 0.014\\\\\n",
       "\\end{tabular}\n"
      ],
      "text/markdown": [
       "\n",
       "| <!--/--> | A | B | C |\n",
       "|---|---|---|---|\n",
       "| 4 | 0.008 | 0.980 | 0.012 |\n",
       "| 6 | 0.964 | 0.036 | 0.000 |\n",
       "| 7 | 0.002 | 0.996 | 0.002 |\n",
       "| 8 | 0.000 | 0.672 | 0.328 |\n",
       "| 14 | 0.012 | 0.882 | 0.106 |\n",
       "| 16 | 0.000 | 0.986 | 0.014 |\n",
       "\n"
      ],
      "text/plain": [
       "   A     B     C    \n",
       "4  0.008 0.980 0.012\n",
       "6  0.964 0.036 0.000\n",
       "7  0.002 0.996 0.002\n",
       "8  0.000 0.672 0.328\n",
       "14 0.012 0.882 0.106\n",
       "16 0.000 0.986 0.014"
      ]
     },
     "metadata": {},
     "output_type": "display_data"
    },
    {
     "data": {
      "text/plain": [
       "C5.0Tree variable importance\n",
       "\n",
       "                   Overall\n",
       "CGPA                100.00\n",
       "GRE                  87.59\n",
       "UNIVERSITY_RATING5   26.24\n",
       "RESEARCH              8.16\n",
       "UNIVERSITY_RATING3    7.09\n",
       "LOR                   4.26\n",
       "SOP                   0.00\n",
       "UNIVERSITY_RATING4    0.00\n",
       "UNIVERSITY_RATING2    0.00\n",
       "TOFEL                 0.00"
      ]
     },
     "metadata": {},
     "output_type": "display_data"
    },
    {
     "data": {
      "image/png": "[encoded data removed]",
      "text/plain": [
       "plot without title"
      ]
     },
     "metadata": {},
     "output_type": "display_data"
    }
   ],
   "source": [
    "set.seed(191)\n",
    "\n",
    "# Definindo Parâmetros do Cross Validation\n",
    "cv <- trainControl(method = \"repeatedcv\", number = 10, savePredictions = TRUE, classProbs=TRUE)\n",
    "\n",
    "# Treinando Modelo Random Forest\n",
    "model_rf <- train(RANK~. , data = dfTrain, method = \"rf\",trControl = cv)\n",
    "\n",
    "model_rf\n",
    "\n",
    "# Gerando Matriz de Confusão\n",
    "pred_rf <- predict(model_rf ,newdata=dfTest)\n",
    "confusionMatrix(data=pred_rf, dfTest$RANK)\n",
    "\n",
    "# Fazendo Scoring do Modelo\n",
    "classProbs_rf <- predict(model_rf, newdata=dfTest, type=\"prob\")\n",
    "head(classProbs_rf)\n",
    "\n",
    "# Importância das Variáveis Preditoras\n",
    "imp <- varImp(model_5.0, scale=FALSE)\n",
    "imp\n",
    "plot(imp)"
   ]
  },
  {
   "cell_type": "code",
   "execution_count": null,
   "metadata": {},
   "outputs": [],
   "source": []
  }
 ],
 "metadata": {
  "kernelspec": {
   "display_name": "R",
   "language": "R",
   "name": "ir"
  },
  "language_info": {
   "codemirror_mode": "r",
   "file_extension": ".r",
   "mimetype": "text/x-r-source",
   "name": "R",
   "pygments_lexer": "r",
   "version": "3.6.1"
  }
 },
 "nbformat": 4,
 "nbformat_minor": 4
}
